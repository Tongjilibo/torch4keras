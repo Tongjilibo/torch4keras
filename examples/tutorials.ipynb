{
 "cells": [
  {
   "cell_type": "markdown",
   "metadata": {},
   "source": [
    "# torch4keras使用手册\n",
    "[torch4keras](https://github.com/Tongjilibo/torch4keras)的功能是像使用keras一样使用pytorch, 是从[bert4torch]()中抽象出来的trainer,适用于一般神经网络的训练，用户仅需关注网络结构代码的实现，而无需关注训练工程代码\n",
    "\n",
    "## 1、训练过程\n",
    "```text\n",
    "2022-10-28 23:16:10 - Start Training\n",
    "2022-10-28 23:16:10 - Epoch: 1/5\n",
    "5000/5000 [==============================] - 13s 3ms/step - loss: 0.1351 - acc: 0.9601\n",
    "Evaluate: 100%|██████████████████████████████████████████████████| 2500/2500 [00:03<00:00, 798.09it/s] \n",
    "test_acc: 0.98045. best_test_acc: 0.98045\n",
    "\n",
    "2022-10-28 23:16:27 - Epoch: 2/5\n",
    "5000/5000 [==============================] - 13s 3ms/step - loss: 0.0465 - acc: 0.9862\n",
    "Evaluate: 100%|██████████████████████████████████████████████████| 2500/2500 [00:03<00:00, 635.78it/s] \n",
    "test_acc: 0.98280. best_test_acc: 0.98280\n",
    "\n",
    "2022-10-28 23:16:44 - Epoch: 3/5\n",
    "5000/5000 [==============================] - 15s 3ms/step - loss: 0.0284 - acc: 0.9915\n",
    "Evaluate: 100%|██████████████████████████████████████████████████| 2500/2500 [00:03<00:00, 673.60it/s] \n",
    "test_acc: 0.98365. best_test_acc: 0.98365\n",
    "\n",
    "2022-10-28 23:17:03 - Epoch: 4/5\n",
    "5000/5000 [==============================] - 15s 3ms/step - loss: 0.0179 - acc: 0.9948\n",
    "Evaluate: 100%|██████████████████████████████████████████████████| 2500/2500 [00:03<00:00, 692.34it/s] \n",
    "test_acc: 0.98265. best_test_acc: 0.98365\n",
    "\n",
    "2022-10-28 23:17:21 - Epoch: 5/5\n",
    "5000/5000 [==============================] - 14s 3ms/step - loss: 0.0129 - acc: 0.9958\n",
    "Evaluate: 100%|██████████████████████████████████████████████████| 2500/2500 [00:03<00:00, 701.77it/s] \n",
    "test_acc: 0.98585. best_test_acc: 0.98585\n",
    "\n",
    "2022-10-28 23:17:37 - Finish Training\n",
    "```\n",
    "\n",
    "## 2、功能介绍\n",
    "1. **模型训练**： 模型的训练过程和keras很相似，`model.compile(optimizer,loss, scheduler,metric)`指定loss, 优化器，scheduler，mertrics；`model.fit(train_dataloader, epoch, steps_per_epoch)`进行模型训练\n",
    "2. **特色功能**： 进度条展示训练过程；自带和自定义metric；自带Evaluator, Checkpoint, Tensorboard, Logger等Callback，也可自定义Callback；可支持dp和ddp的多卡训练\n",
    "3. **设计初衷**：前期功能是作为[bert4torch](https://github.com/Tongjilibo/bert4torch)和[rec4torch](https://github.com/Tongjilibo/rec4torch)的Trainer，用户可用于各类pytorch模型训练\n",
    "\n",
    "## 3、建模流程\n",
    "### 3.1 加载数据\n",
    "这里直接使用torchvision自带的数据集，更一般的是用户自己读取数据后，组建Dataset后使用Dataloader来构建训练数据集"
   ]
  },
  {
   "cell_type": "code",
   "execution_count": null,
   "metadata": {},
   "outputs": [],
   "source": [
    "import torch\n",
    "import torch.nn as nn\n",
    "import torch.optim as optim\n",
    "import torchvision\n",
    "from torch4keras.model import BaseModel\n",
    "from torch4keras.snippets import seed_everything, Checkpoint, Evaluator, EarlyStopping\n",
    "from torch.utils.data import TensorDataset, DataLoader\n",
    "from tqdm import tqdm\n",
    "\n",
    "seed_everything(42)\n",
    "device = 'cuda' if torch.cuda.is_available() else 'cpu'\n",
    "\n",
    "# 读取数据\n",
    "mnist = torchvision.datasets.MNIST(root='./', download=True)\n",
    "x, y = mnist.train_data.unsqueeze(1), mnist.train_labels\n",
    "x, y = x.to(device), y.to(device)\n",
    "x = x.float() / 255.0    # scale the pixels to [0, 1]\n",
    "x_train, y_train = x[:40000], y[:40000]\n",
    "train_dataloader = DataLoader(TensorDataset(x_train, y_train), batch_size=8)\n",
    "x_test, y_test = x[40000:], y[40000:]\n",
    "test_dataloader = DataLoader(TensorDataset(x_test, y_test), batch_size=8)"
   ]
  },
  {
   "cell_type": "markdown",
   "metadata": {},
   "source": [
    "### 3.2 定义网络结构\n",
    "有两种方式，一种是直接继承`BaseModel`来定义网络结构（推荐），另一种是把网络结构实例化出来传入`BaseModel`"
   ]
  },
  {
   "cell_type": "code",
   "execution_count": null,
   "metadata": {},
   "outputs": [],
   "source": [
    "# 方式1\n",
    "class MyModel(BaseModel):\n",
    "    def __init__(self):\n",
    "        super().__init__()\n",
    "        self.model = torch.nn.Sequential(\n",
    "            nn.Conv2d(1, 32, kernel_size=3), nn.ReLU(),\n",
    "            nn.MaxPool2d(2, 2), \n",
    "            nn.Conv2d(32, 64, kernel_size=3), nn.ReLU(),\n",
    "            nn.Flatten(),\n",
    "            nn.Linear(7744, 10)\n",
    "        )\n",
    "    def forward(self, inputs):\n",
    "        return self.model(inputs)\n",
    "model = MyModel().to(device)\n",
    "\n",
    "# 方式2\n",
    "# net = torch.nn.Sequential(\n",
    "#             nn.Conv2d(1, 32, kernel_size=3), nn.ReLU(),\n",
    "#             nn.MaxPool2d(2, 2), \n",
    "#             nn.Conv2d(32, 64, kernel_size=3), nn.ReLU(),\n",
    "#             nn.Flatten(),\n",
    "#             nn.Linear(7744, 10)\n",
    "#         )\n",
    "# model = BaseModel(net).to(device)"
   ]
  },
  {
   "cell_type": "markdown",
   "metadata": {},
   "source": [
    "### 3.3 `compile`定义\n",
    "定义optimizer， loss, scheduler, metric等其他参数"
   ]
  },
  {
   "cell_type": "code",
   "execution_count": null,
   "metadata": {},
   "outputs": [],
   "source": [
    "model.compile(optimizer=optim.Adam(model.parameters()), loss=nn.CrossEntropyLoss(), metrics=['acc'])"
   ]
  },
  {
   "cell_type": "markdown",
   "metadata": {},
   "source": [
    "### 3.4 Callback定义"
   ]
  },
  {
   "cell_type": "code",
   "execution_count": null,
   "metadata": {},
   "outputs": [],
   "source": [
    "class MyEvaluator(Evaluator):\n",
    "    # 重构评价函数\n",
    "    def evaluate(self):\n",
    "        total, hit = 1e-5, 0\n",
    "        for X, y in tqdm(test_dataloader):\n",
    "            pred_y = self.model.predict(X).argmax(dim=-1)\n",
    "            hit += pred_y.eq(y).sum().item()\n",
    "            total += y.shape[0]\n",
    "        return {'test_acc': hit/total}\n",
    "evaluator = MyEvaluator(monitor='test_acc', \n",
    "                        checkpoint_path='./ckpt/best_model.pt', \n",
    "                        optimizer_path='./ckpt/best_optimizer.pt', \n",
    "                        steps_params_path='./ckpt/best_step_params.pt')\n",
    "ckpt = Checkpoint('./ckpt/model_{epoch}_{test_acc:.5f}.pt',\n",
    "                    optimizer_path='./ckpt/optimizer_{epoch}_{test_acc:.5f}.pt',\n",
    "                    steps_params_path='./ckpt/steps_params_{epoch}_{test_acc:.5f}.pt')\n",
    "early_stop = EarlyStopping(monitor='test_acc', verbose=1)"
   ]
  },
  {
   "cell_type": "markdown",
   "metadata": {},
   "source": [
    "### 3.5 模型训练"
   ]
  },
  {
   "cell_type": "code",
   "execution_count": null,
   "metadata": {},
   "outputs": [],
   "source": [
    "model.fit(train_dataloader, steps_per_epoch=100, epochs=5, callbacks=[evaluator, ckpt, early_stop])"
   ]
  },
  {
   "cell_type": "markdown",
   "metadata": {},
   "source": [
    "## 4、Github仓库推荐\n",
    "- 本项目：[torch4keras](https://github.com/Tongjilibo/torch4keras)\n",
    "- NLP场景：参考bert4keras的pytorch实现：[bert4torch](https://github.com/Tongjilibo/bert4torch)\n",
    "- 推荐场景：参考deepctr的实现（刚刚起步）：[rec4torch](https://github.com/Tongjilibo/rec4torch)"
   ]
  }
 ],
 "metadata": {
  "kernelspec": {
   "display_name": "Python 3.8.8 ('base')",
   "language": "python",
   "name": "python3"
  },
  "language_info": {
   "codemirror_mode": {
    "name": "ipython",
    "version": 3
   },
   "file_extension": ".py",
   "mimetype": "text/x-python",
   "name": "python",
   "nbconvert_exporter": "python",
   "pygments_lexer": "ipython3",
   "version": "3.8.8"
  },
  "orig_nbformat": 4,
  "vscode": {
   "interpreter": {
    "hash": "e42634819b8c191a5d07eaf23810ff32516dd8d3875f28ec3e488928fbd3c187"
   }
  }
 },
 "nbformat": 4,
 "nbformat_minor": 2
}
